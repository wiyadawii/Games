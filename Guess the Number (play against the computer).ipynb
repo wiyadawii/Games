{
 "cells": [
  {
   "cell_type": "code",
   "execution_count": 4,
   "id": "38f1f583",
   "metadata": {},
   "outputs": [
    {
     "name": "stdout",
     "output_type": "stream",
     "text": [
      "Guess a number between 12 and 20: 15\n",
      "Sorry, guess again. Too high.\n",
      "Guess a number between 12 and 20: 13\n",
      "Sorry, guess again. Too low\n",
      "Guess a number between 12 and 20: 12\n",
      "Sorry, guess again. Too low\n",
      "Guess a number between 12 and 20: 11\n",
      "Sorry, guess again. Too low\n",
      "Guess a number between 12 and 20: 14\n",
      "Excellent! You have guessed the number 14 correctly!\n"
     ]
    }
   ],
   "source": [
    "import random\n",
    "def guess(n):\n",
    "    random_number = random.randint(12, n)\n",
    "    guess = 11\n",
    "    while guess != random_number:\n",
    "        guess = int(input(f'Guess a number between 12 and {n}: '))\n",
    "        if guess < random_number:\n",
    "            print('Sorry, guess again. Too low')\n",
    "        elif guess > random_number:\n",
    "            print('Sorry, guess again. Too high.')\n",
    "    print(f'Excellent! You have guessed the number {random_number} correctly!')\n",
    "\n",
    "\n",
    "guess(20)"
   ]
  },
  {
   "cell_type": "code",
   "execution_count": null,
   "id": "22ad09ff",
   "metadata": {},
   "outputs": [],
   "source": []
  }
 ],
 "metadata": {
  "kernelspec": {
   "display_name": "Python 3 (ipykernel)",
   "language": "python",
   "name": "python3"
  },
  "language_info": {
   "codemirror_mode": {
    "name": "ipython",
    "version": 3
   },
   "file_extension": ".py",
   "mimetype": "text/x-python",
   "name": "python",
   "nbconvert_exporter": "python",
   "pygments_lexer": "ipython3",
   "version": "3.9.13"
  }
 },
 "nbformat": 4,
 "nbformat_minor": 5
}
