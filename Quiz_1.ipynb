{
 "cells": [
  {
   "cell_type": "code",
   "execution_count": 4,
   "id": "a9938224",
   "metadata": {},
   "outputs": [
    {
     "name": "stdout",
     "output_type": "stream",
     "text": [
      "Welcome to my quiz page!\n",
      "Do you want to play? yes\n",
      "Let's play! \n",
      "What is the capital of Japan? tokyo\n",
      "Correct!\n",
      "What is a female Japansese dress called? kimono\n",
      "Correct!\n",
      "What are Japanese gang members called? yakuza\n",
      "Correct!\n",
      "You've got 3 questions correct!\n",
      "You've got 100.0%,\n"
     ]
    }
   ],
   "source": [
    "print(\"Welcome to my quiz page!\")\n",
    "playing = input(\"Do you want to play? \")\n",
    "if playing.lower() == \"yes\":      \n",
    "    print(\"Let's play! \")\n",
    "    score = 0\n",
    "\n",
    "    answer = input(\"What is the capital of Japan? \")\n",
    "    if answer.lower() == \"tokyo\":\n",
    "        print(\"Correct!\")\n",
    "        score += 1\n",
    "    else:\n",
    "        print(\"Incorrect!\")\n",
    "    \n",
    "    answer = input(\"What is a female Japansese dress called? \")\n",
    "    if answer.lower() == \"kimono\":\n",
    "        print(\"Correct!\")\n",
    "        score += 1\n",
    "    else:\n",
    "        print(\"Incorrect!\")\n",
    "    \n",
    "    answer = input(\"What are Japanese gang members called? \")\n",
    "    if answer.lower() == \"yakuza\":\n",
    "        print(\"Correct!\")\n",
    "        score += 1\n",
    "    else:\n",
    "        print(\"Incorrect!\")\n",
    "    \n",
    "print(\"You've got \" + str(score) + \" questions correct!\")\n",
    "print(\"You've got \" + str((score / 3) * 100) + \"%,\")\n",
    "\n"
   ]
  },
  {
   "cell_type": "code",
   "execution_count": null,
   "id": "210f7457",
   "metadata": {},
   "outputs": [],
   "source": []
  },
  {
   "cell_type": "code",
   "execution_count": null,
   "id": "4a799ad5",
   "metadata": {},
   "outputs": [],
   "source": []
  }
 ],
 "metadata": {
  "kernelspec": {
   "display_name": "Python 3 (ipykernel)",
   "language": "python",
   "name": "python3"
  },
  "language_info": {
   "codemirror_mode": {
    "name": "ipython",
    "version": 3
   },
   "file_extension": ".py",
   "mimetype": "text/x-python",
   "name": "python",
   "nbconvert_exporter": "python",
   "pygments_lexer": "ipython3",
   "version": "3.9.13"
  }
 },
 "nbformat": 4,
 "nbformat_minor": 5
}
