{
 "cells": [
  {
   "cell_type": "code",
   "execution_count": 3,
   "id": "a9938224",
   "metadata": {},
   "outputs": [
    {
     "name": "stdout",
     "output_type": "stream",
     "text": [
      "Welcome to my quiz page!\n",
      "Do you want to play? no\n"
     ]
    }
   ],
   "source": [
    "print(\"Welcome to my quiz page!\")\n",
    "\n",
    "while True:\n",
    "    playing = input(\"Do you want to play? \")\n",
    "    if playing.lower() == \"yes\" or playing.lower() ==\"y\":      \n",
    "        print(\"Let's play! \")\n",
    "        score = 0\n",
    "\n",
    "        answer = input(\"What is the capital of Japan? \")\n",
    "        if answer.lower() == \"tokyo\":\n",
    "            print(\"Correct!\")\n",
    "            score += 1\n",
    "        else:\n",
    "            print(\"Incorrect!\")\n",
    "    \n",
    "        answer = input(\"What is a female Japansese dress called? \")\n",
    "        if answer.lower() == \"kimono\":\n",
    "            print(\"Correct!\")\n",
    "            score += 1\n",
    "        else:\n",
    "            print(\"Incorrect!\")\n",
    "    \n",
    "        answer = input(\"What are Japanese gang members called? \")\n",
    "        if answer.lower() == \"yakuza\":\n",
    "            print(\"Correct!\")\n",
    "            score += 1\n",
    "        else:\n",
    "            print(\"Incorrect!\")\n",
    "    \n",
    "        print(\"You've got \" + str(score) + \" questions correct!\")\n",
    "        print(\"You've got \" + str((score / 3) * 100) + \"%,\")\n",
    "        \n",
    "    else:\n",
    "        break\n",
    "\n"
   ]
  }
 ],
 "metadata": {
  "kernelspec": {
   "display_name": "Python 3 (ipykernel)",
   "language": "python",
   "name": "python3"
  },
  "language_info": {
   "codemirror_mode": {
    "name": "ipython",
    "version": 3
   },
   "file_extension": ".py",
   "mimetype": "text/x-python",
   "name": "python",
   "nbconvert_exporter": "python",
   "pygments_lexer": "ipython3",
   "version": "3.9.13"
  }
 },
 "nbformat": 4,
 "nbformat_minor": 5
}
