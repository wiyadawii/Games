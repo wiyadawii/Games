{
 "cells": [
  {
   "cell_type": "code",
   "execution_count": 1,
   "id": "a9938224",
   "metadata": {},
   "outputs": [
    {
     "name": "stdout",
     "output_type": "stream",
     "text": [
      "Welcome to my quiz page!\n",
      "Do you want to play? no\n",
      "Let's play! \n",
      "What is the capital of Japan? si\n",
      "Incorrect!\n",
      "What is a female Japansese dress called? ao\n",
      "Incorrect!\n",
      "What are Japanese gang members called? w\n",
      "Incorrect!\n",
      "You've got 0 questions correct!\n",
      "You've got 0.0%,\n"
     ]
    }
   ],
   "source": [
    "print(\"Welcome to my quiz page!\")\n",
    "playing = input(\"Do you want to play? \")\n",
    "if playing.lower() != \"yes\":\n",
    "    quit() #why the program doesn't stop when the answer isn't \"yes\"?\n",
    "    \n",
    "print(\"Let's play! \")\n",
    "score = 0\n",
    "\n",
    "answer = input(\"What is the capital of Japan? \")\n",
    "if answer.lower() == \"tokyo\":\n",
    "    print(\"Correct!\")\n",
    "    score += 1\n",
    "else:\n",
    "    print(\"Incorrect!\")\n",
    "    \n",
    "answer = input(\"What is a female Japansese dress called? \")\n",
    "if answer.lower() == \"kimono\":\n",
    "    print(\"Correct!\")\n",
    "    score += 1\n",
    "else:\n",
    "    print(\"Incorrect!\")\n",
    "    \n",
    "answer = input(\"What are Japanese gang members called? \")\n",
    "if answer.lower() == \"yakuza\":\n",
    "    print(\"Correct!\")\n",
    "    score += 1\n",
    "else:\n",
    "    print(\"Incorrect!\")\n",
    "    \n",
    "print(\"You've got \" + str(score) + \" questions correct!\")\n",
    "print(\"You've got \" + str((score / 3) * 100) + \"%,\")\n",
    "\n"
   ]
  },
  {
   "cell_type": "code",
   "execution_count": null,
   "id": "210f7457",
   "metadata": {},
   "outputs": [],
   "source": []
  },
  {
   "cell_type": "code",
   "execution_count": null,
   "id": "4a799ad5",
   "metadata": {},
   "outputs": [],
   "source": []
  }
 ],
 "metadata": {
  "kernelspec": {
   "display_name": "Python 3 (ipykernel)",
   "language": "python",
   "name": "python3"
  },
  "language_info": {
   "codemirror_mode": {
    "name": "ipython",
    "version": 3
   },
   "file_extension": ".py",
   "mimetype": "text/x-python",
   "name": "python",
   "nbconvert_exporter": "python",
   "pygments_lexer": "ipython3",
   "version": "3.9.13"
  }
 },
 "nbformat": 4,
 "nbformat_minor": 5
}
