print("Welcome to my quiz page!")
playing = input("Do you want to play? ")
if playing.lower() == "yes":      
    print("Let's play! ")
    score = 0

    answer = input("What is the capital of Japan? ")
    if answer.lower() == "tokyo":
        print("Correct!")
        score += 1
    else:
        print("Incorrect!")
    
    answer = input("What is a female Japansese dress called? ")
    if answer.lower() == "kimono":
        print("Correct!")
        score += 1
    else:
        print("Incorrect!")
    
    answer = input("What are Japanese gang members called? ")
    if answer.lower() == "yakuza":
        print("Correct!")
        score += 1
    else:
        print("Incorrect!")
    
print("You've got " + str(score) + " questions correct!")
print("You've got " + str((score / 3) * 100) + "%,")
