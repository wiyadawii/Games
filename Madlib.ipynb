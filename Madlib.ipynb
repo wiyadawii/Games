{
 "cells": [
  {
   "cell_type": "code",
   "execution_count": 2,
   "id": "948e3fea",
   "metadata": {},
   "outputs": [
    {
     "name": "stdout",
     "output_type": "stream",
     "text": [
      "Noun: dog\n",
      "Noun: table\n",
      "Noun: sun\n",
      "Verb: eat\n",
      "Verb: run\n",
      "Verb: fly\n",
      "Verb: sleep\n",
      "White sheep, white dog, On a sun hill, When the wind stops, You all eat still. When the wind run, You fly away slow. White table, white table, Where do you sleep?\n"
     ]
    }
   ],
   "source": [
    "noun1 = input(\"Noun: \")\n",
    "noun2 = input(\"Noun: \")\n",
    "adj = input(\"Noun: \")\n",
    "verb1 = input(\"Verb: \")\n",
    "verb2 = input(\"Verb: \")\n",
    "verb3 =input(\"Verb: \")\n",
    "verb4 = input(\"Verb: \")\n",
    "\n",
    "madlib = f\"White sheep, white {noun1}, On a {adj} hill, When the wind stops, You all {verb1} still. When the wind {verb2}, You {verb3} away slow. White {noun2}, white {noun2}, Where do you {verb4}?\"\n",
    "\n",
    "print(madlib)"
   ]
  },
  {
   "cell_type": "code",
   "execution_count": null,
   "id": "1055933f",
   "metadata": {},
   "outputs": [],
   "source": []
  }
 ],
 "metadata": {
  "kernelspec": {
   "display_name": "Python 3 (ipykernel)",
   "language": "python",
   "name": "python3"
  },
  "language_info": {
   "codemirror_mode": {
    "name": "ipython",
    "version": 3
   },
   "file_extension": ".py",
   "mimetype": "text/x-python",
   "name": "python",
   "nbconvert_exporter": "python",
   "pygments_lexer": "ipython3",
   "version": "3.9.13"
  }
 },
 "nbformat": 4,
 "nbformat_minor": 5
}
